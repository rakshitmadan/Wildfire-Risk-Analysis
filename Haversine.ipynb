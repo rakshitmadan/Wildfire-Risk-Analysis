{
 "cells": [
  {
   "cell_type": "code",
   "execution_count": 29,
   "id": "75a887d7",
   "metadata": {},
   "outputs": [],
   "source": [
    "#importing libraries\n",
    "import pandas as pd\n",
    "import numpy as np\n",
    "from sklearn.model_selection import train_test_split\n",
    "from sklearn.ensemble import RandomForestClassifier\n",
    "from sklearn.linear_model import LogisticRegression\n",
    "from sklearn.metrics import classification_report, roc_auc_score"
   ]
  },
  {
   "cell_type": "code",
   "execution_count": 30,
   "id": "67adc329",
   "metadata": {},
   "outputs": [],
   "source": [
    "#loading the dataset\n",
    "data = pd.read_excel(\"merged_dataset_nv_v2.xlsx\")"
   ]
  },
  {
   "cell_type": "code",
   "execution_count": 31,
   "id": "6d7255c1",
   "metadata": {},
   "outputs": [],
   "source": [
    "# Function to calculate the Haversine distance\n",
    "def haversine(lat1, lon1, lat2, lon2):\n",
    "    # Convert latitude and longitude from degrees to radians\n",
    "    lat1, lon1, lat2, lon2 = map(np.radians, [lat1, lon1, lat2, lon2])\n",
    "    \n",
    "    # Haversine formula\n",
    "    dlat = lat2 - lat1\n",
    "    dlon = lon2 - lon1\n",
    "    a = np.sin(dlat / 2.0) ** 2 + np.cos(lat1) * np.cos(lat2) * np.sin(dlon / 2.0) ** 2\n",
    "    c = 2 * np.arcsin(np.sqrt(a))\n",
    "    \n",
    "    # Radius of the Earth in kilometers (mean radius)\n",
    "    r = 6371\n",
    "    return c * r\n"
   ]
  },
  {
   "cell_type": "code",
   "execution_count": 32,
   "id": "e45b99ab",
   "metadata": {},
   "outputs": [],
   "source": [
    "# Calculate the Haversine distance\n",
    "data['Haversine_Distance_km'] = haversine(data['LAT'], data['LON'], data['Latitude'], data['Longitude'])"
   ]
  },
  {
   "cell_type": "code",
   "execution_count": 33,
   "id": "3d5e787d",
   "metadata": {},
   "outputs": [
    {
     "name": "stdout",
     "output_type": "stream",
     "text": [
      "             LAT         LON   Latitude   Longitude  Haversine_Distance_km\n",
      "0      39.152745 -119.756393  39.145914 -119.729466               2.443025\n",
      "1      39.160227 -119.760819  39.144387 -119.784205               2.677414\n",
      "2      39.163056 -119.753132  39.145914 -119.729466               2.792342\n",
      "3      39.163056 -119.752921  39.145914 -119.729466               2.779074\n",
      "4      39.170683 -119.764770  39.150310 -119.787409               2.990302\n",
      "...          ...         ...        ...         ...                    ...\n",
      "26242  39.113092 -119.757072  39.116023 -119.767540               0.960085\n",
      "26243  39.154399 -119.763646  39.144387 -119.784205               2.093381\n",
      "26244  39.156256 -119.763578  39.144387 -119.784205               2.214810\n",
      "26245  39.162992 -119.763154  39.150310 -119.787409               2.522384\n",
      "26246  39.164330 -119.763216  39.150310 -119.787409               2.604178\n",
      "\n",
      "[26247 rows x 5 columns]\n"
     ]
    }
   ],
   "source": [
    "# Display the updated DataFrame\n",
    "print(data[['LAT', 'LON', 'Latitude', 'Longitude', 'Haversine_Distance_km']])"
   ]
  },
  {
   "cell_type": "code",
   "execution_count": 35,
   "id": "b3b57cee",
   "metadata": {},
   "outputs": [],
   "source": [
    "# Save the updated data to a new CSV file if needed\n",
    "data.to_excel('MergedData_With_Haversine_Distance.xlsx', index=False)"
   ]
  }
 ],
 "metadata": {
  "kernelspec": {
   "display_name": "Python 3 (ipykernel)",
   "language": "python",
   "name": "python3"
  },
  "language_info": {
   "codemirror_mode": {
    "name": "ipython",
    "version": 3
   },
   "file_extension": ".py",
   "mimetype": "text/x-python",
   "name": "python",
   "nbconvert_exporter": "python",
   "pygments_lexer": "ipython3",
   "version": "3.11.8"
  }
 },
 "nbformat": 4,
 "nbformat_minor": 5
}
